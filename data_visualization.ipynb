{
 "cells": [
  {
   "cell_type": "code",
   "execution_count": 1,
   "metadata": {},
   "outputs": [],
   "source": [
    "from __future__ import division\n",
    "import os\n",
    "import glob\n",
    "import numpy as np"
   ]
  },
  {
   "cell_type": "code",
   "execution_count": 2,
   "metadata": {},
   "outputs": [
    {
     "name": "stdout",
     "output_type": "stream",
     "text": [
      "86326\n"
     ]
    }
   ],
   "source": [
    "#train context\n",
    "\n",
    "path = 'data/train.context'\n",
    "\n",
    "context_len = []\n",
    "with open(path) as f:\n",
    "    lines = f.readlines()\n",
    "    print(len(lines))\n",
    "    for line in lines:\n",
    "        words = line.split()\n",
    "        context_len.append(len(words))\n",
    "    f.close()"
   ]
  },
  {
   "cell_type": "code",
   "execution_count": 3,
   "metadata": {},
   "outputs": [
    {
     "name": "stdout",
     "output_type": "stream",
     "text": [
      "86326\n"
     ]
    }
   ],
   "source": [
    "#train question\n",
    "\n",
    "path = 'data/train.question'\n",
    "\n",
    "question_len = []\n",
    "with open(path) as f:\n",
    "    lines = f.readlines()\n",
    "    print(len(lines))\n",
    "    for line in lines:\n",
    "        words = line.split()\n",
    "        question_len.append(len(words))\n",
    "    f.close()"
   ]
  },
  {
   "cell_type": "code",
   "execution_count": 4,
   "metadata": {},
   "outputs": [
    {
     "name": "stdout",
     "output_type": "stream",
     "text": [
      "86326\n"
     ]
    }
   ],
   "source": [
    "#train answer\n",
    "\n",
    "path = 'data/train.answer'\n",
    "\n",
    "answer_len = []\n",
    "with open(path) as f:\n",
    "    lines = f.readlines()\n",
    "    print(len(lines))\n",
    "    for line in lines:\n",
    "        words = line.split()\n",
    "        answer_len.append(len(words))\n",
    "    f.close()"
   ]
  },
  {
   "cell_type": "code",
   "execution_count": 5,
   "metadata": {},
   "outputs": [
    {
     "name": "stdout",
     "output_type": "stream",
     "text": [
      "86326\n"
     ]
    }
   ],
   "source": [
    "#train span\n",
    "\n",
    "path = 'data/train.span'\n",
    "\n",
    "start = []\n",
    "end = []\n",
    "with open(path) as f:\n",
    "    lines = f.readlines()\n",
    "    print(len(lines))\n",
    "    for line in lines:\n",
    "        words = line.split()\n",
    "        start.append(int(words[0]))\n",
    "        end.append(int(words[0]))\n",
    "    f.close()\n"
   ]
  },
  {
   "cell_type": "markdown",
   "metadata": {},
   "source": [
    "# Train Context Length"
   ]
  },
  {
   "cell_type": "code",
   "execution_count": 6,
   "metadata": {},
   "outputs": [
    {
     "name": "stdout",
     "output_type": "stream",
     "text": [
      "('Min:   ', 22)\n",
      "('Max:   ', 766)\n",
      "('Mean:   ', 137.90535875634222)\n",
      "('25th percentile:   ', 102.0)\n",
      "('Median:            ', 127.0)\n",
      "('75th percentile:   ', 164.0)\n",
      "('95th percentile:   ', 245.0)\n",
      "('99th percentile:   ', 325.0)\n"
     ]
    }
   ],
   "source": [
    "context_array = np.array(context_len)\n",
    "\n",
    "print(\"Min:   \", np.min(context_array))\n",
    "print(\"Max:   \", np.max(context_array))\n",
    "print(\"Mean:   \", np.mean(context_array))\n",
    "print(\"25th percentile:   \", np.percentile(context_array, 25))\n",
    "print(\"Median:            \", np.median(context_array))\n",
    "print(\"75th percentile:   \", np.percentile(context_array, 75))\n",
    "print(\"95th percentile:   \", np.percentile(context_array, 95))\n",
    "print(\"99th percentile:   \", np.percentile(context_array, 99))"
   ]
  },
  {
   "cell_type": "markdown",
   "metadata": {},
   "source": [
    "# Train Question Length"
   ]
  },
  {
   "cell_type": "code",
   "execution_count": 7,
   "metadata": {},
   "outputs": [
    {
     "name": "stdout",
     "output_type": "stream",
     "text": [
      "('Min:   ', 1)\n",
      "('Max:   ', 60)\n",
      "('Mean:   ', 11.290237008548988)\n",
      "('25th percentile:   ', 9.0)\n",
      "('Median:            ', 11.0)\n",
      "('75th percentile:   ', 13.0)\n",
      "('95th percentile:   ', 18.0)\n",
      "('99th percentile:   ', 23.0)\n"
     ]
    }
   ],
   "source": [
    "ques_array = np.array(question_len)\n",
    "\n",
    "print(\"Min:   \", np.min(ques_array))\n",
    "print(\"Max:   \", np.max(ques_array))\n",
    "print(\"Mean:   \", np.mean(ques_array))\n",
    "print(\"25th percentile:   \", np.percentile(ques_array, 25))\n",
    "print(\"Median:            \", np.median(ques_array))\n",
    "print(\"75th percentile:   \", np.percentile(ques_array, 75))\n",
    "print(\"95th percentile:   \", np.percentile(ques_array, 95))\n",
    "print(\"99th percentile:   \", np.percentile(ques_array, 99))\n",
    "\n"
   ]
  },
  {
   "cell_type": "markdown",
   "metadata": {},
   "source": [
    "# Train Answer Length"
   ]
  },
  {
   "cell_type": "code",
   "execution_count": 8,
   "metadata": {},
   "outputs": [
    {
     "name": "stdout",
     "output_type": "stream",
     "text": [
      "('Min:   ', 1)\n",
      "('Max:   ', 46)\n",
      "('Mean:   ', 3.382851052985196)\n",
      "('25th percentile:   ', 1.0)\n",
      "('Median:            ', 2.0)\n",
      "('75th percentile:   ', 4.0)\n",
      "('95th percentile:   ', 11.0)\n",
      "('99th percentile:   ', 21.0)\n"
     ]
    }
   ],
   "source": [
    "ans_array = np.array(answer_len)\n",
    "\n",
    "print(\"Min:   \", np.min(ans_array))\n",
    "print(\"Max:   \", np.max(ans_array))\n",
    "print(\"Mean:   \", np.mean(ans_array))\n",
    "print(\"25th percentile:   \", np.percentile(ans_array, 25))\n",
    "print(\"Median:            \", np.median(ans_array))\n",
    "print(\"75th percentile:   \", np.percentile(ans_array, 75))\n",
    "print(\"95th percentile:   \", np.percentile(ans_array, 95))\n",
    "print(\"99th percentile:   \", np.percentile(ans_array, 99))"
   ]
  },
  {
   "cell_type": "markdown",
   "metadata": {},
   "source": [
    "# Train Answer Span"
   ]
  },
  {
   "cell_type": "code",
   "execution_count": 9,
   "metadata": {},
   "outputs": [
    {
     "name": "stdout",
     "output_type": "stream",
     "text": [
      "('Min:   ', 0)\n",
      "('Max:   ', 605)\n",
      "('Mean:   ', 58.10365359219702)\n",
      "('25th percentile:   ', 20.0)\n",
      "('Median:            ', 47.0)\n",
      "('75th percentile:   ', 85.0)\n",
      "('95th percentile:   ', 149.0)\n",
      "('99th percentile:   ', 213.0)\n"
     ]
    }
   ],
   "source": [
    "ans_start_array = np.array(start)\n",
    "\n",
    "print(\"Min:   \", np.min(ans_start_array))\n",
    "print(\"Max:   \", np.max(ans_start_array))\n",
    "print(\"Mean:   \", np.mean(ans_start_array))\n",
    "print(\"25th percentile:   \", np.percentile(ans_start_array, 25))\n",
    "print(\"Median:            \", np.median(ans_start_array))\n",
    "print(\"75th percentile:   \", np.percentile(ans_start_array, 75))\n",
    "print(\"95th percentile:   \", np.percentile(ans_start_array, 95))\n",
    "print(\"99th percentile:   \", np.percentile(ans_start_array, 99))"
   ]
  }
 ],
 "metadata": {
  "kernelspec": {
   "display_name": "Python 3",
   "language": "python",
   "name": "python3"
  },
  "language_info": {
   "codemirror_mode": {
    "name": "ipython",
    "version": 3
   },
   "file_extension": ".py",
   "mimetype": "text/x-python",
   "name": "python",
   "nbconvert_exporter": "python",
   "pygments_lexer": "ipython3",
   "version": "3.6.5"
  }
 },
 "nbformat": 4,
 "nbformat_minor": 2
}
